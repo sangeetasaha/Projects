{
  "nbformat": 4,
  "nbformat_minor": 0,
  "metadata": {
    "kernelspec": {
      "name": "python3",
      "display_name": "Python 3"
    },
    "language_info": {
      "codemirror_mode": {
        "name": "ipython",
        "version": 3
      },
      "file_extension": ".py",
      "mimetype": "text/x-python",
      "name": "python",
      "nbconvert_exporter": "python",
      "pygments_lexer": "ipython3",
      "version": "3.6.3"
    },
    "colab": {
      "name": "Copy of Virality prediction from community structure.ipynb",
      "provenance": [],
      "collapsed_sections": [],
      "toc_visible": true
    },
    "accelerator": "TPU"
  },
  "cells": [
    {
      "cell_type": "code",
      "metadata": {
        "id": "P34RKWYlpTRx",
        "colab_type": "code",
        "outputId": "e01db60c-ee42-4629-ab8c-45a0f157e940",
        "colab": {
          "base_uri": "https://localhost:8080/",
          "height": 129
        }
      },
      "source": [
        "!pip install twitter"
      ],
      "execution_count": 0,
      "outputs": [
        {
          "output_type": "stream",
          "text": [
            "Collecting twitter\n",
            "\u001b[?25l  Downloading https://files.pythonhosted.org/packages/85/e2/f602e3f584503f03e0389491b251464f8ecfe2596ac86e6b9068fe7419d3/twitter-1.18.0-py2.py3-none-any.whl (54kB)\n",
            "\r\u001b[K     |██████                          | 10kB 10.9MB/s eta 0:00:01\r\u001b[K     |████████████                    | 20kB 1.6MB/s eta 0:00:01\r\u001b[K     |██████████████████              | 30kB 1.9MB/s eta 0:00:01\r\u001b[K     |████████████████████████        | 40kB 1.8MB/s eta 0:00:01\r\u001b[K     |██████████████████████████████▏ | 51kB 2.1MB/s eta 0:00:01\r\u001b[K     |████████████████████████████████| 61kB 2.0MB/s \n",
            "\u001b[?25hInstalling collected packages: twitter\n",
            "Successfully installed twitter-1.18.0\n"
          ],
          "name": "stdout"
        }
      ]
    },
    {
      "cell_type": "code",
      "metadata": {
        "id": "9Fa4lGd9paGk",
        "colab_type": "code",
        "colab": {}
      },
      "source": [
        "import json\n",
        "import pandas as pd\n",
        "from twitter import *\n",
        "from numpy import random"
      ],
      "execution_count": 0,
      "outputs": []
    },
    {
      "cell_type": "code",
      "metadata": {
        "id": "1x66Qn55pTST",
        "colab_type": "code",
        "colab": {}
      },
      "source": [
        "with open('auth_dict','r') as f:\n",
        "    twtr_auth = json.load(f)\n",
        "\n",
        "t = Twitter(auth=OAuth(twtr_auth['token'], twtr_auth['token_secret'], \n",
        "            twtr_auth['consumer_key'], twtr_auth['consumer_secret']))"
      ],
      "execution_count": 0,
      "outputs": []
    },
    {
      "cell_type": "code",
      "metadata": {
        "id": "aMiY50ThpTSk",
        "colab_type": "code",
        "colab": {}
      },
      "source": [
        "import sys\n",
        "import time\n",
        "from twitter.api import TwitterHTTPError\n",
        "from urllib.error import URLError\n",
        "from http.client import BadStatusLine\n",
        "\n",
        "def make_twitter_request(twitter_api_func, max_errors=10, *args, **kw):\n",
        "    def handle_twitter_http_error(e, wait_period=2, sleep_when_rate_limited=True):\n",
        "        if wait_period > 3600: # Seconds\n",
        "            print('Too many retries. Quitting.', file=sys.stderr)\n",
        "            raise e\n",
        "        if e.e.code == 401:\n",
        "            return None\n",
        "        elif e.e.code == 404:\n",
        "            print('Encountered 404 Error (Not Found)', file=sys.stderr)\n",
        "            return None\n",
        "        elif e.e.code == 429:\n",
        "            print('Encountered 429 Error (Rate Limit Exceeded)', file=sys.stderr)\n",
        "            if sleep_when_rate_limited:\n",
        "                print(\"Retrying in 15 minutes...ZzZ...\", file=sys.stderr)\n",
        "                sys.stderr.flush()\n",
        "                time.sleep(60*15 + 5)\n",
        "                print('...ZzZ...Awake now and trying again.', file=sys.stderr)\n",
        "                return 2\n",
        "            else:\n",
        "                raise e\n",
        "        elif e.e.code in (500, 502, 503, 504):\n",
        "            print('Encountered %i Error. Retrying in %i seconds' % (e.e.code, wait_period), file=sys.stderr)\n",
        "            time.sleep(wait_period)\n",
        "            wait_period *= 1.5\n",
        "            return wait_period\n",
        "        else:\n",
        "            raise e\n",
        "\n",
        "\n",
        "    wait_period = 2\n",
        "    error_count = 0\n",
        "    while True:\n",
        "        try:\n",
        "            return twitter_api_func(*args, **kw)\n",
        "        except TwitterHTTPError as e:\n",
        "            error_count = 0\n",
        "            wait_period = handle_twitter_http_error(e, wait_period)\n",
        "            if wait_period is None:\n",
        "                return\n",
        "        except URLError as e:\n",
        "            error_count += 1\n",
        "            print(\"URLError encountered. Continuing.\", file=sys.stderr)\n",
        "            if error_count > max_errors:\n",
        "                print(\"Too many consecutive errors...bailing out.\", file=sys.stderr)\n",
        "                raise\n",
        "        except BadStatusLine as e:\n",
        "            error_count += 1\n",
        "            print >> sys.stderr, \"BadStatusLine encountered. Continuing.\"\n",
        "            if error_count > max_errors:\n",
        "                print(\"Too many consecutive errors...bailing out.\", file=sys.stderr)\n",
        "                raise"
      ],
      "execution_count": 0,
      "outputs": []
    },
    {
      "cell_type": "code",
      "metadata": {
        "id": "spznL4hspTSy",
        "colab_type": "code",
        "colab": {}
      },
      "source": [
        "from functools import partial\n",
        "from sys import maxsize\n",
        "\n",
        "\n",
        "def get_friends_followers_ids(twitter_api, screen_name=None, user_id=None,\n",
        "                                friends_limit=maxsize, followers_limit=maxsize):\n",
        "    assert (screen_name != None) != (user_id != None), \\\n",
        "    \"Must have screen_name or user_id, but not both\"\n",
        "    \n",
        "    get_friends_ids = partial(make_twitter_request, twitter_api.friends.ids,\n",
        "                                count=5000)\n",
        "    get_followers_ids = partial(make_twitter_request, twitter_api.followers.ids,\n",
        "                                count=5000)\n",
        "    friends_ids, followers_ids = [], []\n",
        "    for twitter_api_func, limit, ids, label in [\n",
        "            [get_friends_ids, friends_limit, friends_ids, \"friends\"],\n",
        "            [get_followers_ids, followers_limit, followers_ids, \"followers\"]\n",
        "            ]:\n",
        "        if limit == 0: continue\n",
        "        cursor = -1\n",
        "        while cursor != 0:\n",
        "            if screen_name:\n",
        "                response = twitter_api_func(screen_name=screen_name, cursor=cursor)\n",
        "            else: \n",
        "                response = twitter_api_func(user_id=user_id, cursor=cursor)\n",
        "            if response is not None:\n",
        "                ids += response['ids']\n",
        "                cursor = response['next_cursor']\n",
        "            if len(ids) >= limit or response is None:\n",
        "                break\n",
        "    return friends_ids[:friends_limit], followers_ids[:followers_limit]\n"
      ],
      "execution_count": 0,
      "outputs": []
    },
    {
      "cell_type": "code",
      "metadata": {
        "id": "MAkkI7Y8pTTB",
        "colab_type": "code",
        "colab": {}
      },
      "source": [
        "def get_user_profile(twitter_api, screen_names=None, user_ids=None):\n",
        "    assert (screen_names != None) != (user_ids != None), \\\n",
        "        \"Must have screen_names or user_ids, but not both\"\n",
        "    items_to_info = {}\n",
        "    items = screen_names or user_ids\n",
        "    sorted_by_follow_count = []\n",
        "    while len(items) > 0:\n",
        "        items_str = ','.join([str(item) for item in items[:100]])\n",
        "        items = items[100:]\n",
        "        if screen_names:\n",
        "            response = make_twitter_request(twitter_api.users.lookup, screen_name=items_str)\n",
        "        else: \n",
        "            response = make_twitter_request(twitter_api.users.lookup, user_id=items_str)\n",
        "        for user_info in response:\n",
        "            if screen_names:\n",
        "                items_to_info[user_info['followers_count']] = user_info['screen_name']\n",
        "            else: \n",
        "                items_to_info[user_info['followers_count']] = user_info['id']\n",
        "        \n",
        "    for key in sorted(items_to_info, reverse=True):\n",
        "        sorted_by_follow_count.append(items_to_info[key])\n",
        "    return sorted_by_follow_count[:5]"
      ],
      "execution_count": 0,
      "outputs": []
    },
    {
      "cell_type": "code",
      "metadata": {
        "id": "o789Op_BpTTQ",
        "colab_type": "code",
        "colab": {}
      },
      "source": [
        "df = pd.DataFrame(columns=['ID','ReciprocalFriend'])\n",
        "df.to_csv('ReciprocalFriend.csv', index=False)\n",
        "\n",
        "def save_followers(fid, reciprocal_friend):\n",
        "    data_frame_rf = [[str(fid), str(i)] for i in reciprocal_friend]\n",
        "    df = pd.DataFrame(data_frame_rf, columns=['ID','ReciprocalFriend'])\n",
        "    with open('ReciprocalFriend.csv', 'a') as f:\n",
        "        df.to_csv(f,header=False, index=False)"
      ],
      "execution_count": 0,
      "outputs": []
    },
    {
      "cell_type": "code",
      "metadata": {
        "id": "aErA9C5SpTTd",
        "colab_type": "code",
        "colab": {}
      },
      "source": [
        "def crawl_followers(twitter_api, screen_name, limit=1000000, depth=2):\n",
        "    \n",
        "    seed_id = str(twitter_api.users.show(screen_name=screen_name)['id'])\n",
        "    friends_ids, followers_ids = get_friends_followers_ids(twitter_api, user_id=seed_id,\n",
        "                                 friends_limit=limit, followers_limit=limit)\n",
        "    rp_friend = list(set(friends_ids) & set(followers_ids))\n",
        "    top_five = get_user_profile(t, user_ids=rp_friend[:100])\n",
        "    next_queue = top_five\n",
        "    \n",
        "    save_followers(seed_id, next_queue)\n",
        "    \n",
        "    d = 1\n",
        "    while d < depth:\n",
        "        print(\"Number of \", d,\"- Distance node\", len(next_queue))\n",
        "        d += 1\n",
        "        (queue, next_queue) = (next_queue, [])\n",
        "        for fid in queue:\n",
        "            friends_ids, followers_ids = get_friends_followers_ids(twitter_api, user_id=fid,\n",
        "                                friends_limit=limit, followers_limit=limit)\n",
        "            rp_friend = list(set(friends_ids) & set(followers_ids))\n",
        "            if (len(rp_friend) == 0):\n",
        "                continue\n",
        "            top_five = get_user_profile(t, user_ids=rp_friend[-100:])\n",
        "            save_followers(str(fid), top_five)\n",
        "            next_queue += top_five"
      ],
      "execution_count": 0,
      "outputs": []
    },
    {
      "cell_type": "code",
      "metadata": {
        "id": "JKqjZO0o927E",
        "colab_type": "code",
        "colab": {}
      },
      "source": [
        "screen_name = 'COVIDNewsByMIB'\n",
        "crawl_followers(t, screen_name, depth=4, limit=5000)"
      ],
      "execution_count": 0,
      "outputs": []
    },
    {
      "cell_type": "code",
      "metadata": {
        "id": "_6gOsqO-pTT7",
        "colab_type": "code",
        "colab": {}
      },
      "source": [
        "import numpy as np\n",
        "import pandas as pd\n",
        "import networkx as nx\n",
        "import matplotlib.pyplot as plt\n",
        "from sklearn.cluster import KMeans"
      ],
      "execution_count": 0,
      "outputs": []
    },
    {
      "cell_type": "code",
      "metadata": {
        "id": "QmBZGd_YpTUH",
        "colab_type": "code",
        "colab": {}
      },
      "source": [
        "df = pd.read_csv(\"ReciprocalFriend.csv\")\n",
        "x_point = list(df[df.columns[0]].values)\n",
        "y_point = list(df[df.columns[1]].values)\n",
        "edges_list = []\n",
        "for i in range(len(x_point)):\n",
        "    edges_list.append((x_point[i], y_point[i]))\n",
        "node_list = set(x_point+y_point)\n",
        "RG = nx.Graph()\n",
        "RG.add_nodes_from(node_list)\n",
        "RG.add_edges_from(edges_list)"
      ],
      "execution_count": 0,
      "outputs": []
    },
    {
      "cell_type": "code",
      "metadata": {
        "id": "WKmkST4LpTUS",
        "colab_type": "code",
        "outputId": "35ea6fde-69c7-4db4-92c1-0acaa4fca585",
        "colab": {
          "base_uri": "https://localhost:8080/",
          "height": 54
        }
      },
      "source": [
        "print (\"Number of Nodes :\", RG.number_of_nodes())\n",
        "print (\"Numebr of edges :\", RG.number_of_edges())"
      ],
      "execution_count": 0,
      "outputs": [
        {
          "output_type": "stream",
          "text": [
            "Number of Nodes : 108\n",
            "Numebr of edges : 108\n"
          ],
          "name": "stdout"
        }
      ]
    },
    {
      "cell_type": "code",
      "metadata": {
        "id": "zZfZ7iaDpTUh",
        "colab_type": "code",
        "outputId": "c6aaff9b-6869-4530-bde9-50f744bb709c",
        "colab": {
          "base_uri": "https://localhost:8080/",
          "height": 1000
        }
      },
      "source": [
        "A = nx.adjacency_matrix(RG)\n",
        "D = np.diag(list(dict(nx.degree(RG)).values()))\n",
        "E = RG.get_edge_data\n",
        "L = D - A\n",
        "\n",
        "for i in range(len(edges_list)):\n",
        "    print(edges_list[i])"
      ],
      "execution_count": 0,
      "outputs": [
        {
          "output_type": "stream",
          "text": [
            "(2384071, 28049003.0)\n",
            "(2384071, 33039483.0)\n",
            "(2384071, 304587968.0)\n",
            "(2384071, 236485849.0)\n",
            "(2384071, 1339518313.0)\n",
            "(28049003, 2596143056.0)\n",
            "(28049003, 1480749782.0)\n",
            "(33039483, 17995040.0)\n",
            "(33039483, 33041426.0)\n",
            "(33039483, 41814169.0)\n",
            "(33039483, 8.75029068223316e+17)\n",
            "(33039483, 2835276183.0)\n",
            "(304587968, 2384071.0)\n",
            "(304587968, 5943622.0)\n",
            "(304587968, 165944767.0)\n",
            "(304587968, 19383099.0)\n",
            "(304587968, 42336153.0)\n",
            "(236485849, 14763734.0)\n",
            "(236485849, 190906140.0)\n",
            "(236485849, 2461810448.0)\n",
            "(236485849, 246939630.0)\n",
            "(236485849, 32780218.0)\n",
            "(1339518313, 19691332.0)\n",
            "(1339518313, 53560219.0)\n",
            "(1339518313, 18419094.0)\n",
            "(1339518313, 125695429.0)\n",
            "(1339518313, 1237502864.0)\n",
            "(2596143056, 2573480784.0)\n",
            "(2596143056, 2729061.0)\n",
            "(2596143056, 769641584.0)\n",
            "(2596143056, 65937068.0)\n",
            "(2596143056, 22485748.0)\n",
            "(1480749782, 90573676.0)\n",
            "(1480749782, 28049003.0)\n",
            "(1480749782, 2451476942.0)\n",
            "(1480749782, 44317593.0)\n",
            "(1480749782, 1552045182.0)\n",
            "(2835276183, 1.16021125015379e+18)\n",
            "(2384071, 28049003.0)\n",
            "(2384071, 33039483.0)\n",
            "(2384071, 304587968.0)\n",
            "(2384071, 236485849.0)\n",
            "(2384071, 1339518313.0)\n",
            "(5943622, 242087100.0)\n",
            "(5943622, 21784951.0)\n",
            "(5943622, 376180305.0)\n",
            "(5943622, 54731136.0)\n",
            "(5943622, 126416038.0)\n",
            "(165944767, 197496309.0)\n",
            "(165944767, 15331408.0)\n",
            "(165944767, 9.16209273205608e+17)\n",
            "(19383099, 42501345.0)\n",
            "(19383099, 34485937.0)\n",
            "(19383099, 110447431.0)\n",
            "(19383099, 1319682974.0)\n",
            "(19383099, 1.09977746574296e+18)\n",
            "(42336153, 20109973.0)\n",
            "(42336153, 30699754.0)\n",
            "(42336153, 148653311.0)\n",
            "(42336153, 314690118.0)\n",
            "(42336153, 4726207589.0)\n",
            "(14763734, 33008902.0)\n",
            "(14763734, 280082252.0)\n",
            "(14763734, 490792210.0)\n",
            "(14763734, 7.65528370406756e+17)\n",
            "(14763734, 465471932.0)\n",
            "(190906140, 293850289.0)\n",
            "(190906140, 18028249.0)\n",
            "(190906140, 111390142.0)\n",
            "(190906140, 28571218.0)\n",
            "(190906140, 266179694.0)\n",
            "(2461810448, 9.26763245242913e+17)\n",
            "(2461810448, 258557227.0)\n",
            "(2461810448, 28180659.0)\n",
            "(2461810448, 14625885.0)\n",
            "(2461810448, 578129699.0)\n",
            "(246939630, 351100725.0)\n",
            "(246939630, 1173831.0)\n",
            "(246939630, 2400284491.0)\n",
            "(246939630, 21111896.0)\n",
            "(246939630, 80977873.0)\n",
            "(32780218, 167781199.0)\n",
            "(32780218, 1686797810.0)\n",
            "(19691332, 344686533.0)\n",
            "(19691332, 1633058688.0)\n",
            "(19691332, 15466386.0)\n",
            "(19691332, 4818214831.0)\n",
            "(19691332, 184573834.0)\n",
            "(53560219, 140137815.0)\n",
            "(53560219, 304880098.0)\n",
            "(53560219, 813402.0)\n",
            "(53560219, 1.1082281742933e+18)\n",
            "(53560219, 1482468246.0)\n",
            "(18419094, 5676102.0)\n",
            "(18419094, 103451046.0)\n",
            "(18419094, 7097602.0)\n",
            "(18419094, 160268128.0)\n",
            "(18419094, 1.06677327077355e+18)\n",
            "(125695429, 235261861.0)\n",
            "(125695429, 26616462.0)\n",
            "(125695429, 8.65339383200702e+17)\n",
            "(125695429, 36956198.0)\n",
            "(125695429, 9.74716085328105e+17)\n",
            "(1237502864, 2613859267.0)\n",
            "(1237502864, 17242168.0)\n",
            "(1237502864, 2350618921.0)\n",
            "(1237502864, 3288425003.0)\n",
            "(1237502864, 19685572.0)\n",
            "(2573480784, 244655353.0)\n",
            "(2573480784, 2596143056.0)\n",
            "(2573480784, 14642495.0)\n",
            "(2573480784, 148653311.0)\n",
            "(2729061, 2596143056.0)\n",
            "(2729061, 5880462.0)\n",
            "(2729061, 15624805.0)\n",
            "(2729061, 198967539.0)\n",
            "(2729061, 885361.0)\n"
          ],
          "name": "stdout"
        }
      ]
    },
    {
      "cell_type": "code",
      "metadata": {
        "id": "EDb1zd9spTUs",
        "colab_type": "code",
        "outputId": "c9902b84-7887-460c-ec32-7b44792c7666",
        "colab": {
          "base_uri": "https://localhost:8080/",
          "height": 256
        }
      },
      "source": [
        "lmbds,vctrs= np.linalg.eig(L)\n",
        "indx = [i for i in range(len(lmbds)) if lmbds[i] > .01 and lmbds[i] < .06]\n",
        "\n",
        "for i in range(len(lmbds)):\n",
        "  if lmbds[i] > .01 and lmbds[i] < .06:\n",
        "    print(\"Size of community: \", i)\n",
        "    print(\"Leading ID of community: \", edges_list[i][0])\n",
        "    print(\"\\n\")\n",
        "\n",
        "RG_mbd = vctrs.real[:,indx]\n",
        "print (\"We will divide our Graph in\", len(indx), \"communities\")\n"
      ],
      "execution_count": 0,
      "outputs": [
        {
          "output_type": "stream",
          "text": [
            "Size of community:  25\n",
            "Leading ID of community:  1339518313\n",
            "\n",
            "\n",
            "Size of community:  26\n",
            "Leading ID of community:  1339518313\n",
            "\n",
            "\n",
            "Size of community:  30\n",
            "Leading ID of community:  2596143056\n",
            "\n",
            "\n",
            "We will divide our Graph in 3 communities\n"
          ],
          "name": "stdout"
        }
      ]
    },
    {
      "cell_type": "code",
      "metadata": {
        "id": "IdFBRuhLpTU3",
        "colab_type": "code",
        "colab": {}
      },
      "source": [
        "est = KMeans(n_clusters=len(indx))\n",
        "est.fit(RG_mbd)\n",
        "\n",
        "labels = est.labels_"
      ],
      "execution_count": 0,
      "outputs": []
    },
    {
      "cell_type": "code",
      "metadata": {
        "id": "gF2SQriBpTVD",
        "colab_type": "code",
        "outputId": "54a0132b-a74a-47fb-bd81-193c4648793c",
        "colab": {
          "base_uri": "https://localhost:8080/",
          "height": 248
        }
      },
      "source": [
        "pos = nx.spring_layout(RG)\n",
        "nx.draw_networkx_nodes(RG,pos,\n",
        "                       nodelist=node_list,\n",
        "                       node_color=labels,\n",
        "                       node_size=100,\n",
        "                   alpha=0.8)\n",
        "nx.draw_networkx_edges(RG,pos)\n",
        "plt.show()"
      ],
      "execution_count": 0,
      "outputs": [
        {
          "output_type": "display_data",
          "data": {
            "image/png": "[encoded data removed]",
            "text/plain": [
              "<Figure size 432x288 with 1 Axes>"
            ]
          },
          "metadata": {
            "tags": []
          }
        }
      ]
    }
  ]
}